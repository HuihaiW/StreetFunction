{
 "cells": [
  {
   "cell_type": "code",
   "execution_count": 4,
   "metadata": {},
   "outputs": [],
   "source": [
    "from network import SFGAT_LSTM_GAN\n",
    "from network import SFGAT_LSTM\n",
    "from network import SFGAT_LSTM_LONG\n",
    "from network import SFGAT\n",
    "from network import SFGAT_POI_SVI\n",
    "from network import SFGAT_POI_SVI_LONG\n",
    "from dataset import NYCTrafficCountDataset_sub\n",
    "from dataset import NYCTrafficCountDataset_long\n",
    "from dataset import NYCTrafficCountDataset_short\n",
    "from dataset import NYCTrafficCountDataset_short_12\n",
    "from dataset import NYCTrafficCountDataset_short_6\n",
    "from network import SFGAT_LONG\n",
    "from dataset import NYCTrafficCountDataset_test_short\n",
    "from dataset import NYCTrafficCountDataset_test_long\n",
    "from network import *\n",
    "from torch_geometric.data import DataLoader\n",
    "from tqdm import tqdm\n",
    "from utils import MAPE\n",
    "import torch\n",
    "import os\n",
    "import numpy as np\n",
    "import pandas as pd\n",
    "from train import getDatasetLst\n",
    "import matplotlib.pyplot as plt"
   ]
  },
  {
   "cell_type": "code",
   "execution_count": 5,
   "metadata": {},
   "outputs": [],
   "source": [
    "def getDatasetLst(trafficPth, adjFolder):\n",
    "    trafficLst = []\n",
    "    adjLst = []\n",
    "    dateLst = os.listdir(trafficPth)\n",
    "    for date in dateLst:\n",
    "        datePth = os.path.join(trafficPth, date)\n",
    "        adjPth = os.path.join(adjFolder, date)\n",
    "        trafficLst.append(pd.read_csv(datePth))\n",
    "        adjLst.append(pd.read_csv(adjPth))\n",
    "    return dateLst, trafficLst, adjLst"
   ]
  },
  {
   "cell_type": "code",
   "execution_count": 6,
   "metadata": {},
   "outputs": [],
   "source": [
    "def test_long(input_length, best_path, netName):\n",
    "    device = torch.device(\"cuda:0\" if torch.cuda.is_available() else \"cpu\")\n",
    "    print(device)\n",
    "\n",
    "    net = netName(input_length).to(device)\n",
    "    net.load_state_dict(torch.load(best_path))\n",
    "    net.eval()\n",
    "\n",
    "    test_trafficPath = r\"/home/huihai/Huihai/StreetFunction/Data_subGraph/test/data\"\n",
    "    test_adjPath = r\"/home/huihai/Huihai/StreetFunction/Data_subGraph/test/adj\"\n",
    "    xPath = r\"/home/huihai/Huihai/StreetFunction/X\"\n",
    "    scenePath = r\"/home/huihai/Huihai/StreetFunction/X/scene.csv\"\n",
    "    columnLst = ['SVIID',\n",
    "                'StreetWidt', 'Length',  \n",
    "                'Commercial', 'CulturalFa', 'EducationF','Government', 'HealthServ', \n",
    "                'Miscellane', 'PublicSafe', 'Recreation', 'ReligiousI', 'Residentia', \n",
    "                'SocialServ', 'Transporta', 'Water',\n",
    "                'Avg_B01001', 'Avg_B010_1', 'Avg_B010_2', 'Avg_B010_3', 'Avg_B02001',\n",
    "                'Avg_B020_1', 'Avg_B020_2', 'Avg_B08006', 'Avg_B080_1', 'Avg_B080_2',\n",
    "                'Avg_B08013', 'Avg_B08124', 'Avg_B15003', 'Avg_B19001', 'Avg_B19013',\n",
    "                'Avg_B23013', 'Avg_B24011', 'Avg_B240_1', 'Avg_B240_2', 'Avg_B240_3',\n",
    "                'Avg_B240_4', 'Avg_B240_5', 'Avg_B240_6', 'Avg_B240_7', 'Avg_B240_8',\n",
    "                'Avg_B240_9', 'Avg_B24_10', 'Avg_B24_11', 'Avg_B24_12', 'Avg_B24_13',\n",
    "                'Avg_B24_14', 'Avg_B24_15', 'Avg_B24_16', 'Avg_B24_17', 'Avg_B24_18',\n",
    "                'Avg_B24_20', 'Avg_B24_21', 'Avg_B24_22', 'Avg_B24_23', 'Avg_B24_24']\n",
    "    xLst = []\n",
    "    xLst.append(pd.read_csv(os.path.join(xPath, \"Divided_2016.csv\"))[columnLst])\n",
    "    xLst.append(pd.read_csv(os.path.join(xPath, \"Divided_2017.csv\"))[columnLst])\n",
    "    xLst.append(pd.read_csv(os.path.join(xPath, \"Divided_2018.csv\"))[columnLst])\n",
    "    xLst.append(pd.read_csv(os.path.join(xPath, \"Divided_2019.csv\"))[columnLst])\n",
    "    # print(os.listdir(test_trafficPath))\n",
    "\n",
    "    testDateLst, testTrafficLst, testAdjLst = getDatasetLst(test_trafficPath, test_adjPath)\n",
    "    test_dataset = NYCTrafficCountDataset_long(testTrafficLst, xLst, testAdjLst, testDateLst, scenePath, input_length)\n",
    "    test_dataloader = DataLoader(test_dataset, \n",
    "                                    batch_size=1, \n",
    "                                    shuffle=False, \n",
    "                                    num_workers=5)\n",
    "\n",
    "    loss1 = torch.nn.L1Loss()\n",
    "    loss2 = torch.nn.MSELoss()\n",
    "    loss3 = MAPE\n",
    "\n",
    "    loss_MAE = []\n",
    "    loss_RMSE = []\n",
    "    loss_MAPE = []\n",
    "\n",
    "    for batch in test_dataloader:\n",
    "        with torch.no_grad():\n",
    "            batch.to(device)\n",
    "            mask = batch.y[:, -3]\n",
    "            mask = mask == 1\n",
    "\n",
    "            out_val = net(batch)\n",
    "            out_val = out_val[mask]\n",
    "\n",
    "            y = batch.y[:, 0:4]\n",
    "            y = y[mask]\n",
    "\n",
    "            minv = batch.y[:, -2][mask]\n",
    "            maxv = batch.y[:, -1][mask]    \n",
    "            minv = minv.reshape((minv.shape[0], 1))\n",
    "            maxv = maxv.reshape((maxv.shape[0], 1))               \n",
    "\n",
    "            out_val = out_val * (maxv - minv) + minv\n",
    "\n",
    "            # mask_2 = y>0\n",
    "            # # print(mask_2.shape)\n",
    "            # y = y[mask_2]\n",
    "            # out_val = out_val[mask_2]\n",
    "\n",
    "            l_MAE = loss1(out_val, y)\n",
    "            l_MAE.detach().tolist()\n",
    "            loss_MAE.append(l_MAE)        # if i%5 == 0:\n",
    "        #     model_path = os.path.join(normal_path, str(i) + \".pt\")\n",
    "        #     torch.save(model.state_dict(), model_path)MAE)\n",
    "\n",
    "            l_RMSE = loss2(out_val, y)\n",
    "            l_RMSE = torch.sqrt(l_RMSE)\n",
    "            l_RMSE = l_RMSE.detach().tolist()\n",
    "            loss_RMSE.append(l_RMSE)\n",
    "\n",
    "            mask_3 = y>10\n",
    "            # print(mask_2.shape)\n",
    "            y = y[mask_3]\n",
    "            out_val = out_val[mask_3]\n",
    "\n",
    "            l_MAPE = loss3(out_val, y)\n",
    "            l_MAPE = l_MAPE.detach().tolist()\n",
    "            loss_MAPE.append(l_MAPE)\n",
    "\n",
    "    print(sum(loss_MAE)/len(loss_MAE))\n",
    "    print(sum(loss_RMSE)/len(loss_RMSE))\n",
    "    print(sum(loss_MAPE)/len(loss_MAPE))"
   ]
  },
  {
   "cell_type": "code",
   "execution_count": 35,
   "metadata": {},
   "outputs": [],
   "source": [
    "def test_short(input_length, best_path, model_name):\n",
    "    device = torch.device(\"cuda:0\" if torch.cuda.is_available() else \"cpu\")\n",
    "    print(device)\n",
    "\n",
    "    net = model_name(input_length).to(device)\n",
    "    net.load_state_dict(torch.load(best_path))\n",
    "    net.eval()\n",
    "\n",
    "    test_trafficPath = r\"/home/huihai/Huihai/StreetFunction/Data_subGraph/test/data\"\n",
    "    test_adjPath = r\"/home/huihai/Huihai/StreetFunction/Data_subGraph/test/adj\"\n",
    "    xPath = r\"/home/huihai/Huihai/StreetFunction/X\"\n",
    "    scenePath = r\"/home/huihai/Huihai/StreetFunction/X/scene.csv\"\n",
    "\n",
    "    columnLst = ['SVIID',\n",
    "                'StreetWidt', 'Length',  \n",
    "                'Commercial', 'CulturalFa', 'EducationF','Government', 'HealthServ', \n",
    "                'Miscellane', 'PublicSafe', 'Recreation', 'ReligiousI', 'Residentia', \n",
    "                'SocialServ', 'Transporta', 'Water',\n",
    "                'Avg_B01001', 'Avg_B010_1', 'Avg_B010_2', 'Avg_B010_3', 'Avg_B02001',\n",
    "                'Avg_B020_1', 'Avg_B020_2', 'Avg_B08006', 'Avg_B080_1', 'Avg_B080_2',\n",
    "                'Avg_B08013', 'Avg_B08124', 'Avg_B15003', 'Avg_B19001', 'Avg_B19013',\n",
    "                'Avg_B23013', 'Avg_B24011', 'Avg_B240_1', 'Avg_B240_2', 'Avg_B240_3',\n",
    "                'Avg_B240_4', 'Avg_B240_5', 'Avg_B240_6', 'Avg_B240_7', 'Avg_B240_8',\n",
    "                'Avg_B240_9', 'Avg_B24_10', 'Avg_B24_11', 'Avg_B24_12', 'Avg_B24_13',\n",
    "                'Avg_B24_14', 'Avg_B24_15', 'Avg_B24_16', 'Avg_B24_17', 'Avg_B24_18',\n",
    "                'Avg_B24_20', 'Avg_B24_21', 'Avg_B24_22', 'Avg_B24_23', 'Avg_B24_24']\n",
    "    xLst = []\n",
    "    xLst.append(pd.read_csv(os.path.join(xPath, \"Divided_2016.csv\"))[columnLst])\n",
    "    xLst.append(pd.read_csv(os.path.join(xPath, \"Divided_2017.csv\"))[columnLst])\n",
    "    xLst.append(pd.read_csv(os.path.join(xPath, \"Divided_2018.csv\"))[columnLst])\n",
    "    xLst.append(pd.read_csv(os.path.join(xPath, \"Divided_2019.csv\"))[columnLst])\n",
    "    # print(os.listdir(test_trafficPath))\n",
    "\n",
    "    testDateLst, testTrafficLst, testAdjLst = getDatasetLst(test_trafficPath, test_adjPath)\n",
    "    test_dataset = NYCTrafficCountDataset_short(testTrafficLst, xLst, testAdjLst, testDateLst, scenePath, input_length)\n",
    "    test_dataloader = DataLoader(test_dataset, \n",
    "                                    batch_size=1, \n",
    "                                    shuffle=False, \n",
    "                                    num_workers=5)\n",
    "\n",
    "    loss1 = torch.nn.L1Loss()\n",
    "    loss2 = torch.nn.MSELoss()\n",
    "    loss3 = MAPE\n",
    "\n",
    "    loss_MAE = []\n",
    "    loss_RMSE = []\n",
    "    loss_MAPE = []\n",
    "\n",
    "    for batch in test_dataloader:\n",
    "        with torch.no_grad():\n",
    "            batch.to(device)\n",
    "            mask = batch.y[:, 1]\n",
    "            mask = mask == 1\n",
    "\n",
    "            out_val = net(batch)\n",
    "            out_val = out_val[mask]\n",
    "\n",
    "            y = batch.y[:, 0]\n",
    "            y = y[mask]\n",
    "            y = y.reshape(y.shape[0], 1)\n",
    "\n",
    "            minv = batch.y[:, 2][mask]\n",
    "            maxv = batch.y[:, 3][mask]    \n",
    "            minv = minv.reshape((minv.shape[0], 1))\n",
    "            maxv = maxv.reshape((minv.shape[0], 1))          \n",
    "\n",
    "            out_val = out_val * (maxv - minv) + minv\n",
    "\n",
    "            l_MAE = loss1(out_val, y)\n",
    "            l_MAE.detach().tolist()\n",
    "            loss_MAE.append(l_MAE)\n",
    "\n",
    "            l_RMSE = loss2(out_val, y)\n",
    "            l_RMSE = torch.sqrt(l_RMSE)\n",
    "            l_RMSE = l_RMSE.detach().tolist()\n",
    "            loss_RMSE.append(l_RMSE)\n",
    "\n",
    "            mask_3 = y>10\n",
    "            # print(mask_2.shape)\n",
    "            y = y[mask_3]\n",
    "            out_val = out_val[mask_3]\n",
    "\n",
    "            l_MAPE = loss3(out_val, y)\n",
    "            l_MAPE = l_MAPE.detach().tolist()\n",
    "            loss_MAPE.append(l_MAPE)\n",
    "\n",
    "    print(sum(loss_MAE)/len(loss_MAE))\n",
    "    print(sum(loss_RMSE)/len(loss_RMSE))\n",
    "    print(sum(loss_MAPE)/len(loss_MAPE))"
   ]
  },
  {
   "cell_type": "code",
   "execution_count": null,
   "metadata": {},
   "outputs": [
    {
     "name": "stdout",
     "output_type": "stream",
     "text": [
      "cuda:0\n",
      "tensor(76.6999, device='cuda:0')\n",
      "125.18936753769715\n",
      "0.22504197337548248\n"
     ]
    }
   ],
   "source": [
    "### Test long output window\n",
    "input_length = 24\n",
    "model_name = SFGAT_SCE_SE_LONG\n",
    "best_path = os.path.join(\"/home/huihai/Huihai/StreetFunction/NewTrain/\", \"Best_SCE_SE_LSTM_\" + str(input_length) + \"_4.pt\")\n",
    "test_long(input_length, best_path, model_name)"
   ]
  },
  {
   "cell_type": "code",
   "execution_count": 67,
   "metadata": {},
   "outputs": [
    {
     "name": "stdout",
     "output_type": "stream",
     "text": [
      "cuda:0\n",
      "tensor(57.2995, device='cuda:0')\n",
      "86.74367496247093\n",
      "0.16512905867906133\n"
     ]
    }
   ],
   "source": [
    "### Test short output window\n",
    "input_length = 24\n",
    "model_name = SFGAT_SCE\n",
    "best_path = os.path.join(\"/home/huihai/Huihai/StreetFunction/NewTrain/\", \"Best_SCE_LSTM_\" + str(input_length) + \"_1.pt\")\n",
    "test_short(input_length, best_path, model_name)"
   ]
  },
  {
   "cell_type": "code",
   "execution_count": 47,
   "metadata": {},
   "outputs": [],
   "source": [
    "a = torch.tensor([1, 2, 3])\n",
    "b = torch.tensor([[1], [2], [3]])\n",
    "c = torch.tensor([2, 2, 2])\n",
    "d = torch.tensor([3, 3, 3])\n",
    "mask = a > 1"
   ]
  },
  {
   "cell_type": "code",
   "execution_count": 48,
   "metadata": {},
   "outputs": [
    {
     "data": {
      "text/plain": [
       "tensor([False,  True,  True])"
      ]
     },
     "execution_count": 48,
     "metadata": {},
     "output_type": "execute_result"
    }
   ],
   "source": [
    "mask"
   ]
  },
  {
   "cell_type": "code",
   "execution_count": 50,
   "metadata": {},
   "outputs": [
    {
     "data": {
      "text/plain": [
       "tensor([[2],\n",
       "        [3]])"
      ]
     },
     "execution_count": 50,
     "metadata": {},
     "output_type": "execute_result"
    }
   ],
   "source": [
    "b[mask]"
   ]
  },
  {
   "cell_type": "code",
   "execution_count": 45,
   "metadata": {},
   "outputs": [],
   "source": [
    "c = c.reshape(3, 1)\n",
    "d = d.reshape(3, 1)"
   ]
  },
  {
   "cell_type": "code",
   "execution_count": 46,
   "metadata": {},
   "outputs": [
    {
     "data": {
      "text/plain": [
       "tensor([[1.0000],\n",
       "        [1.3333],\n",
       "        [1.6667]])"
      ]
     },
     "execution_count": 46,
     "metadata": {},
     "output_type": "execute_result"
    }
   ],
   "source": [
    "(b + c)/d"
   ]
  },
  {
   "cell_type": "code",
   "execution_count": 43,
   "metadata": {},
   "outputs": [
    {
     "data": {
      "text/plain": [
       "tensor([[2],\n",
       "        [2],\n",
       "        [2]])"
      ]
     },
     "execution_count": 43,
     "metadata": {},
     "output_type": "execute_result"
    }
   ],
   "source": [
    "c"
   ]
  },
  {
   "cell_type": "code",
   "execution_count": 17,
   "metadata": {},
   "outputs": [
    {
     "name": "stdout",
     "output_type": "stream",
     "text": [
      "cuda:0\n",
      "tensor(71.2119, device='cuda:0')\n",
      "116.42918657138944\n",
      "0.19746973605651874\n"
     ]
    }
   ],
   "source": [
    "input_length = 24\n",
    "best_path = r\"C:\\\\Users\\bigti\\\\research\\\\StreetFunction\\\\weights_new_poi_svi_long_24\\\\best\\\\best.pt\"\n",
    "test_long(input_length, best_path)"
   ]
  },
  {
   "cell_type": "code",
   "execution_count": 61,
   "metadata": {},
   "outputs": [],
   "source": [
    "input_length = 6\n",
    "test_trafficPath = r\"C:\\\\Users\\bigti\\\\research\\\\StreetFunction\\\\Data\\\\test\\\\data\"\n",
    "test_adjPath = r\"C:\\\\Users\\\\bigti\\\\research\\\\StreetFunction\\\\Data\\\\test\\\\adj\"\n",
    "xPath = r\"C:\\\\Users\\\\bigti\\\\research\\\\StreetFunction\\\\X\"\n",
    "scenePath = r\"C:\\\\Users\\\\bigti\\\\research\\\\StreetFunction\\\\X\\\\scene.csv\"\n",
    "columnLst = ['SVIID',\n",
    "            'StreetWidt', 'Length',  \n",
    "            'Commercial', 'CulturalFa', 'EducationF','Government', 'HealthServ', \n",
    "            'Miscellane', 'PublicSafe', 'Recreation', 'ReligiousI', 'Residentia', \n",
    "            'SocialServ', 'Transporta', 'Water',\n",
    "            'Avg_B01001', 'Avg_B010_1', 'Avg_B010_2', 'Avg_B010_3', 'Avg_B02001',\n",
    "            'Avg_B020_1', 'Avg_B020_2', 'Avg_B08006', 'Avg_B080_1', 'Avg_B080_2',\n",
    "            'Avg_B08013', 'Avg_B08124', 'Avg_B15003', 'Avg_B19001', 'Avg_B19013',\n",
    "            'Avg_B23013', 'Avg_B24011', 'Avg_B240_1', 'Avg_B240_2', 'Avg_B240_3',\n",
    "            'Avg_B240_4', 'Avg_B240_5', 'Avg_B240_6', 'Avg_B240_7', 'Avg_B240_8',\n",
    "            'Avg_B240_9', 'Avg_B24_10', 'Avg_B24_11', 'Avg_B24_12', 'Avg_B24_13',\n",
    "            'Avg_B24_14', 'Avg_B24_15', 'Avg_B24_16', 'Avg_B24_17', 'Avg_B24_18',\n",
    "            'Avg_B24_20', 'Avg_B24_21', 'Avg_B24_22', 'Avg_B24_23', 'Avg_B24_24']\n",
    "xLst = []\n",
    "xLst.append(pd.read_csv(os.path.join(xPath, \"Divided_2016.csv\"))[columnLst])\n",
    "xLst.append(pd.read_csv(os.path.join(xPath, \"Divided_2017.csv\"))[columnLst])\n",
    "xLst.append(pd.read_csv(os.path.join(xPath, \"Divided_2018.csv\"))[columnLst])\n",
    "xLst.append(pd.read_csv(os.path.join(xPath, \"Divided_2019.csv\"))[columnLst])\n",
    "# print(os.listdir(test_trafficPath))\n",
    "\n",
    "testDateLst, testTrafficLst, testAdjLst = getDatasetLst(test_trafficPath, test_adjPath)\n",
    "test_dataset = NYCTrafficCountDataset_test_short(testTrafficLst, xLst, testAdjLst, testDateLst, scenePath, input_length)\n",
    "test_dataloader = DataLoader(test_dataset, \n",
    "                                batch_size=1, \n",
    "                                shuffle=False, \n",
    "                                num_workers=5)"
   ]
  },
  {
   "cell_type": "code",
   "execution_count": 62,
   "metadata": {},
   "outputs": [
    {
     "data": {
      "text/plain": [
       "SFGAT_POI_SVI(\n",
       "  (poi1): Linear(in_features=13, out_features=64, bias=True)\n",
       "  (poi2): Linear(in_features=64, out_features=64, bias=True)\n",
       "  (svi1): Linear(in_features=365, out_features=128, bias=True)\n",
       "  (svi2): Linear(in_features=128, out_features=128, bias=True)\n",
       "  (all1): Linear(in_features=192, out_features=128, bias=True)\n",
       "  (all2): Linear(in_features=128, out_features=128, bias=True)\n",
       "  (gat1): GATConv(128, 128, heads=1)\n",
       "  (gat2): GATConv(128, 128, heads=1)\n",
       "  (gat3): GATConv(128, 64, heads=1)\n",
       "  (lstm): LSTM(6, 64, num_layers=3)\n",
       "  (time1): Linear(in_features=64, out_features=64, bias=True)\n",
       "  (time2): Linear(in_features=64, out_features=64, bias=True)\n",
       "  (linear1): Linear(in_features=128, out_features=64, bias=True)\n",
       "  (linear2): Linear(in_features=64, out_features=64, bias=True)\n",
       "  (linear3): Linear(in_features=64, out_features=1, bias=True)\n",
       "  (act1): ReLU()\n",
       "  (act2): Sigmoid()\n",
       "  (act3): LeakyReLU(negative_slope=0.01)\n",
       ")"
      ]
     },
     "execution_count": 62,
     "metadata": {},
     "output_type": "execute_result"
    }
   ],
   "source": [
    "net = SFGAT_POI_SVI(input_length)\n",
    "best_path = r\"C:\\\\Users\\bigti\\\\research\\\\StreetFunction\\\\weights_new_poi_svi_short_6\\\\best\\\\best.pt\"\n",
    "net.load_state_dict(torch.load(best_path))\n",
    "net.eval()"
   ]
  },
  {
   "cell_type": "code",
   "execution_count": 63,
   "metadata": {},
   "outputs": [],
   "source": [
    "outLst = []\n",
    "realLst = []\n",
    "roadID = 4\n",
    "\n",
    "device = torch.device(\"cuda:0\" if torch.cuda.is_available() else \"cpu\")\n",
    "\n",
    "for i in range(72):\n",
    "    data = test_dataset[i].to(device)\n",
    "    mask = data.y[:, 1]\n",
    "    y = data.y[:, 0]\n",
    "    y = y[mask==1]\n",
    "\n",
    "    minv = data.y[:, 2][mask==1]\n",
    "    maxv = data.y[:, 3][mask==1]    \n",
    "\n",
    "    net.to(device)\n",
    "    out = net(data)\n",
    "    out = out.reshape(out.shape[0])\n",
    "    out = out[mask==1]\n",
    "    out = out * (maxv - minv) + minv\n",
    "\n",
    "    out = out.detach().tolist()[roadID]\n",
    "    y = y.detach().tolist()[roadID]\n",
    "    outLst.append(out)\n",
    "    realLst.append(y)\n",
    "# out.shape"
   ]
  },
  {
   "cell_type": "code",
   "execution_count": 64,
   "metadata": {},
   "outputs": [
    {
     "data": {
      "image/png": "[encoded data removed]",
      "text/plain": [
       "<Figure size 600x200 with 1 Axes>"
      ]
     },
     "metadata": {},
     "output_type": "display_data"
    }
   ],
   "source": [
    "labelX = [0, 6, 12, 18, 24, 30, 36, 42, 48, 54, 60, 66, 72]\n",
    "label = [\"00:00\", \"06:00\", \"12:00\", \"18:00\", \"00:00\", \"06:00\", \"12:00\", \"18:00\", \"00:00\", \"06:00\", \"12:00\", \"18:00\", \"00:00\"]\n",
    "fig = plt.figure(figsize=(6, 2))\n",
    "ax = plt.axes()\n",
    "\n",
    "plt.plot(realLst, \"b\", label=\"Ground Truth\")\n",
    "plt.plot(outLst, \"r\", label=\"SFG-LSTM\")\n",
    "\n",
    "plt.legend()\n",
    "plt.rcParams['font.size'] = 15\n",
    "plt.legend(fontsize = \"9\")\n",
    "plt.xlabel(\"Time\")\n",
    "plt.ylabel(\"Traffic Volume\")\n",
    "\n",
    "ax.set_xticks(labelX)\n",
    "ax.set_xticklabels(label)\n",
    "plt.xticks(rotation=45, ha='right')\n",
    "plt.savefig(r\"C:\\Users\\bigti\\Box\\Research\\2024StreetFunction\\Figures\\result_6_1.png\", dpi = 300, bbox_inches='tight')"
   ]
  },
  {
   "cell_type": "code",
   "execution_count": 5,
   "metadata": {},
   "outputs": [
    {
     "ename": "TypeError",
     "evalue": "super(type, obj): obj must be an instance or subtype of type",
     "output_type": "error",
     "traceback": [
      "\u001b[1;31m---------------------------------------------------------------------------\u001b[0m",
      "\u001b[1;31mTypeError\u001b[0m                                 Traceback (most recent call last)",
      "Cell \u001b[1;32mIn[5], line 33\u001b[0m\n\u001b[0;32m     30\u001b[0m \u001b[38;5;66;03m# print(os.listdir(test_trafficPath))\u001b[39;00m\n\u001b[0;32m     32\u001b[0m testDateLst, testTrafficLst, testAdjLst \u001b[38;5;241m=\u001b[39m getDatasetLst(test_trafficPath, test_adjPath)\n\u001b[1;32m---> 33\u001b[0m test_dataset \u001b[38;5;241m=\u001b[39m NYCTrafficCountDataset_test_long(testTrafficLst, xLst, testAdjLst, testDateLst, scenePath, input_length)\n\u001b[0;32m     34\u001b[0m test_dataloader \u001b[38;5;241m=\u001b[39m DataLoader(test_dataset, \n\u001b[0;32m     35\u001b[0m                                 batch_size\u001b[38;5;241m=\u001b[39m\u001b[38;5;241m1\u001b[39m, \n\u001b[0;32m     36\u001b[0m                                 shuffle\u001b[38;5;241m=\u001b[39m\u001b[38;5;28;01mFalse\u001b[39;00m, \n\u001b[0;32m     37\u001b[0m                                 num_workers\u001b[38;5;241m=\u001b[39m\u001b[38;5;241m5\u001b[39m)\n",
      "File \u001b[1;32mc:\\Users\\bigti\\research\\StreetFunction\\src\\dataset.py:669\u001b[0m, in \u001b[0;36mNYCTrafficCountDataset_test_long.__init__\u001b[1;34m(self, trafficLst, xLst, adjLst, dateLst, scenePath, input_length)\u001b[0m\n\u001b[0;32m    667\u001b[0m \u001b[38;5;28;01mdef\u001b[39;00m \u001b[38;5;21m__init__\u001b[39m(\u001b[38;5;28mself\u001b[39m, trafficLst, xLst, adjLst, dateLst, scenePath, input_length):\n\u001b[0;32m    668\u001b[0m \u001b[38;5;66;03m# def __init__(self, trafficPath, xPath, adjFolder, scenePath):\u001b[39;00m\n\u001b[1;32m--> 669\u001b[0m     \u001b[38;5;28msuper\u001b[39m(NYCTrafficCountDataset_long, \u001b[38;5;28mself\u001b[39m)\u001b[38;5;241m.\u001b[39m\u001b[38;5;21m__init__\u001b[39m(\u001b[38;5;28;01mNone\u001b[39;00m)\n\u001b[0;32m    670\u001b[0m     \u001b[38;5;66;03m# self.trafficPath = trafficPath\u001b[39;00m\n\u001b[0;32m    671\u001b[0m     \u001b[38;5;66;03m# self.xPath = xPath\u001b[39;00m\n\u001b[0;32m    672\u001b[0m     \u001b[38;5;66;03m# self.adj = adjFolder\u001b[39;00m\n\u001b[0;32m    673\u001b[0m     \u001b[38;5;28mself\u001b[39m\u001b[38;5;241m.\u001b[39mscene \u001b[38;5;241m=\u001b[39m scenePath\n",
      "\u001b[1;31mTypeError\u001b[0m: super(type, obj): obj must be an instance or subtype of type"
     ]
    }
   ],
   "source": [
    "input_length = 24\n",
    "\n",
    "net = SFGAT_POI_SVI_LONG(input_length)\n",
    "best_path = r\"C:\\\\Users\\bigti\\\\research\\\\StreetFunction\\\\weights_new_poi_svi_long_24\\\\best\\\\best.pt\"\n",
    "net.load_state_dict(torch.load(best_path))\n",
    "net.eval()\n",
    "\n",
    "test_trafficPath = r\"C:\\\\Users\\bigti\\\\research\\\\StreetFunction\\\\Data\\\\test\\\\data\"\n",
    "test_adjPath = r\"C:\\\\Users\\\\bigti\\\\research\\\\StreetFunction\\\\Data\\\\test\\\\adj\"\n",
    "xPath = r\"C:\\\\Users\\\\bigti\\\\research\\\\StreetFunction\\\\X\"\n",
    "scenePath = r\"C:\\\\Users\\\\bigti\\\\research\\\\StreetFunction\\\\X\\\\scene.csv\"\n",
    "columnLst = ['SVIID',\n",
    "            'StreetWidt', 'Length',  \n",
    "            'Commercial', 'CulturalFa', 'EducationF','Government', 'HealthServ', \n",
    "            'Miscellane', 'PublicSafe', 'Recreation', 'ReligiousI', 'Residentia', \n",
    "            'SocialServ', 'Transporta', 'Water',\n",
    "            'Avg_B01001', 'Avg_B010_1', 'Avg_B010_2', 'Avg_B010_3', 'Avg_B02001',\n",
    "            'Avg_B020_1', 'Avg_B020_2', 'Avg_B08006', 'Avg_B080_1', 'Avg_B080_2',\n",
    "            'Avg_B08013', 'Avg_B08124', 'Avg_B15003', 'Avg_B19001', 'Avg_B19013',\n",
    "            'Avg_B23013', 'Avg_B24011', 'Avg_B240_1', 'Avg_B240_2', 'Avg_B240_3',\n",
    "            'Avg_B240_4', 'Avg_B240_5', 'Avg_B240_6', 'Avg_B240_7', 'Avg_B240_8',\n",
    "            'Avg_B240_9', 'Avg_B24_10', 'Avg_B24_11', 'Avg_B24_12', 'Avg_B24_13',\n",
    "            'Avg_B24_14', 'Avg_B24_15', 'Avg_B24_16', 'Avg_B24_17', 'Avg_B24_18',\n",
    "            'Avg_B24_20', 'Avg_B24_21', 'Avg_B24_22', 'Avg_B24_23', 'Avg_B24_24']\n",
    "xLst = []\n",
    "xLst.append(pd.read_csv(os.path.join(xPath, \"Divided_2016.csv\"))[columnLst])\n",
    "xLst.append(pd.read_csv(os.path.join(xPath, \"Divided_2017.csv\"))[columnLst])\n",
    "xLst.append(pd.read_csv(os.path.join(xPath, \"Divided_2018.csv\"))[columnLst])\n",
    "xLst.append(pd.read_csv(os.path.join(xPath, \"Divided_2019.csv\"))[columnLst])\n",
    "# print(os.listdir(test_trafficPath))\n",
    "\n",
    "testDateLst, testTrafficLst, testAdjLst = getDatasetLst(test_trafficPath, test_adjPath)\n",
    "test_dataset = NYCTrafficCountDataset_test_long(testTrafficLst, xLst, testAdjLst, testDateLst, scenePath, input_length)\n",
    "test_dataloader = DataLoader(test_dataset, \n",
    "                                batch_size=1, \n",
    "                                shuffle=False, \n",
    "                                num_workers=5)"
   ]
  },
  {
   "cell_type": "code",
   "execution_count": null,
   "metadata": {},
   "outputs": [],
   "source": [
    "outLst = []\n",
    "realLst = []\n",
    "roadID = 4\n",
    "\n",
    "device = torch.device(\"cuda:0\" if torch.cuda.is_available() else \"cpu\")\n",
    "\n",
    "for i in range(72):\n",
    "    data = test_dataset[i].to(device)\n",
    "    mask = data.y[:, 1]\n",
    "    y = data.y[:, 0]\n",
    "    y = y[mask==1]\n",
    "\n",
    "    minv = data.y[:, 2][mask==1]\n",
    "    maxv = data.y[:, 3][mask==1]    \n",
    "\n",
    "    net.to(device)\n",
    "    out = net(data)\n",
    "    out = out.reshape(out.shape[0])\n",
    "    out = out[mask==1]\n",
    "    out = out * (maxv - minv) + minv\n",
    "\n",
    "    out = out.detach().tolist()[roadID]\n",
    "    y = y.detach().tolist()[roadID]\n",
    "    outLst.append(out)\n",
    "    realLst.append(y)"
   ]
  }
 ],
 "metadata": {
  "kernelspec": {
   "display_name": "pytorch",
   "language": "python",
   "name": "python3"
  },
  "language_info": {
   "codemirror_mode": {
    "name": "ipython",
    "version": 3
   },
   "file_extension": ".py",
   "mimetype": "text/x-python",
   "name": "python",
   "nbconvert_exporter": "python",
   "pygments_lexer": "ipython3",
   "version": "3.11.11"
  }
 },
 "nbformat": 4,
 "nbformat_minor": 2
}
