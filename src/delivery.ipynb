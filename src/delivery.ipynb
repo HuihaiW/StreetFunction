{
 "cells": [
  {
   "cell_type": "code",
   "execution_count": 67,
   "metadata": {},
   "outputs": [],
   "source": [
    "import os\n",
    "import pandas as pd\n",
    "import numpy as np"
   ]
  },
  {
   "cell_type": "code",
   "execution_count": 8,
   "metadata": {},
   "outputs": [],
   "source": [
    "customerInfo = r\"../../RobotDelivery_SA/Project2/dataset/customers.csv\"\n",
    "baseInfo = r\"../../RobotDelivery_SA/Project2/dataset/bases.csv\""
   ]
  },
  {
   "cell_type": "code",
   "execution_count": 5,
   "metadata": {},
   "outputs": [],
   "source": [
    "dataFolder = r\"../../RobotDelivery_SA/Project2/dataset/data/TractSeperate/1_depot\""
   ]
  },
  {
   "cell_type": "code",
   "execution_count": 6,
   "metadata": {},
   "outputs": [
    {
     "name": "stdout",
     "output_type": "stream",
     "text": [
      "['131', '143', '247', '248', '249', '261', '263']\n"
     ]
    }
   ],
   "source": []
  },
  {
   "cell_type": "code",
   "execution_count": 9,
   "metadata": {},
   "outputs": [],
   "source": [
    "customerInfoDf = pd.read_csv(customerInfo)"
   ]
  },
  {
   "cell_type": "code",
   "execution_count": 11,
   "metadata": {},
   "outputs": [],
   "source": [
    "customerInfoDf = customerInfoDf[[\"CID\", \"Lat\", \"Lon\", \"X\", \"Y\"]]"
   ]
  },
  {
   "cell_type": "code",
   "execution_count": 13,
   "metadata": {},
   "outputs": [
    {
     "data": {
      "text/html": [
       "<div>\n",
       "<style scoped>\n",
       "    .dataframe tbody tr th:only-of-type {\n",
       "        vertical-align: middle;\n",
       "    }\n",
       "\n",
       "    .dataframe tbody tr th {\n",
       "        vertical-align: top;\n",
       "    }\n",
       "\n",
       "    .dataframe thead th {\n",
       "        text-align: right;\n",
       "    }\n",
       "</style>\n",
       "<table border=\"1\" class=\"dataframe\">\n",
       "  <thead>\n",
       "    <tr style=\"text-align: right;\">\n",
       "      <th></th>\n",
       "      <th>CID</th>\n",
       "      <th>Lat</th>\n",
       "      <th>Lon</th>\n",
       "      <th>X</th>\n",
       "      <th>Y</th>\n",
       "    </tr>\n",
       "  </thead>\n",
       "  <tbody>\n",
       "    <tr>\n",
       "      <th>0</th>\n",
       "      <td>1899</td>\n",
       "      <td>30.323500</td>\n",
       "      <td>-97.734497</td>\n",
       "      <td>1717430</td>\n",
       "      <td>7358140</td>\n",
       "    </tr>\n",
       "    <tr>\n",
       "      <th>1</th>\n",
       "      <td>1900</td>\n",
       "      <td>30.323900</td>\n",
       "      <td>-97.735397</td>\n",
       "      <td>1717340</td>\n",
       "      <td>7358190</td>\n",
       "    </tr>\n",
       "    <tr>\n",
       "      <th>2</th>\n",
       "      <td>1901</td>\n",
       "      <td>30.324400</td>\n",
       "      <td>-97.736504</td>\n",
       "      <td>1717240</td>\n",
       "      <td>7358240</td>\n",
       "    </tr>\n",
       "    <tr>\n",
       "      <th>3</th>\n",
       "      <td>1997</td>\n",
       "      <td>30.342600</td>\n",
       "      <td>-97.747398</td>\n",
       "      <td>1716150</td>\n",
       "      <td>7360240</td>\n",
       "    </tr>\n",
       "    <tr>\n",
       "      <th>4</th>\n",
       "      <td>2641</td>\n",
       "      <td>30.346001</td>\n",
       "      <td>-97.744904</td>\n",
       "      <td>1716390</td>\n",
       "      <td>7360620</td>\n",
       "    </tr>\n",
       "  </tbody>\n",
       "</table>\n",
       "</div>"
      ],
      "text/plain": [
       "    CID        Lat        Lon        X        Y\n",
       "0  1899  30.323500 -97.734497  1717430  7358140\n",
       "1  1900  30.323900 -97.735397  1717340  7358190\n",
       "2  1901  30.324400 -97.736504  1717240  7358240\n",
       "3  1997  30.342600 -97.747398  1716150  7360240\n",
       "4  2641  30.346001 -97.744904  1716390  7360620"
      ]
     },
     "execution_count": 13,
     "metadata": {},
     "output_type": "execute_result"
    }
   ],
   "source": [
    "customerInfoDf.head()"
   ]
  },
  {
   "cell_type": "code",
   "execution_count": 41,
   "metadata": {},
   "outputs": [
    {
     "name": "stdout",
     "output_type": "stream",
     "text": [
      "['131', '143', '247', '248', '249', '261', '263']\n"
     ]
    }
   ],
   "source": [
    "print(os.listdir(dataFolder))"
   ]
  },
  {
   "cell_type": "code",
   "execution_count": 48,
   "metadata": {},
   "outputs": [],
   "source": [
    "tID = \"263\"\n",
    "t1 = os.path.join(dataFolder, tID, \"demand.csv\")\n",
    "savePth = os.path.join(dataFolder, tID, \"customerInfo.csv\")\n",
    "\n",
    "t1Df = pd.read_csv(t1)\n",
    "t1Df = t1Df.drop(\"Unnamed: 0\", axis=1)\n",
    "CIDLst = t1Df[\"CID\"].values.tolist()\n",
    "Lat = []\n",
    "Lon = []\n",
    "X = []\n",
    "Y = []\n",
    "for CID in CIDLst:\n",
    "    data = customerInfoDf[customerInfoDf[\"CID\"] == CID]\n",
    "    Lat.append(data[\"Lat\"].values[0])\n",
    "    Lon.append(data[\"Lon\"].values[0])\n",
    "    X.append(data[\"X\"].values[0])\n",
    "    Y.append(data[\"Y\"].values[0])\n",
    "    \n",
    "t1Df[\"Lat\"] = Lat\n",
    "t1Df[\"Lon\"] = Lon\n",
    "t1Df[\"X\"] = X\n",
    "t1Df[\"Y\"] = Y\n",
    "t1Df.to_csv(savePth, index=False)"
   ]
  },
  {
   "cell_type": "code",
   "execution_count": 49,
   "metadata": {},
   "outputs": [],
   "source": [
    "baseDf = pd.read_csv(baseInfo)"
   ]
  },
  {
   "cell_type": "code",
   "execution_count": 50,
   "metadata": {},
   "outputs": [
    {
     "data": {
      "text/html": [
       "<div>\n",
       "<style scoped>\n",
       "    .dataframe tbody tr th:only-of-type {\n",
       "        vertical-align: middle;\n",
       "    }\n",
       "\n",
       "    .dataframe tbody tr th {\n",
       "        vertical-align: top;\n",
       "    }\n",
       "\n",
       "    .dataframe thead th {\n",
       "        text-align: right;\n",
       "    }\n",
       "</style>\n",
       "<table border=\"1\" class=\"dataframe\">\n",
       "  <thead>\n",
       "    <tr style=\"text-align: right;\">\n",
       "      <th></th>\n",
       "      <th>FID</th>\n",
       "      <th>OBJECTID</th>\n",
       "      <th>BID</th>\n",
       "      <th>Lat</th>\n",
       "      <th>Lon</th>\n",
       "      <th>X</th>\n",
       "      <th>Y</th>\n",
       "    </tr>\n",
       "  </thead>\n",
       "  <tbody>\n",
       "    <tr>\n",
       "      <th>0</th>\n",
       "      <td>0</td>\n",
       "      <td>23966</td>\n",
       "      <td>23966</td>\n",
       "      <td>30.336500</td>\n",
       "      <td>-97.754700</td>\n",
       "      <td>1715460</td>\n",
       "      <td>7359540</td>\n",
       "    </tr>\n",
       "    <tr>\n",
       "      <th>1</th>\n",
       "      <td>1</td>\n",
       "      <td>24053</td>\n",
       "      <td>24053</td>\n",
       "      <td>30.336100</td>\n",
       "      <td>-97.754204</td>\n",
       "      <td>1715520</td>\n",
       "      <td>7359500</td>\n",
       "    </tr>\n",
       "    <tr>\n",
       "      <th>2</th>\n",
       "      <td>2</td>\n",
       "      <td>24120</td>\n",
       "      <td>24120</td>\n",
       "      <td>30.335600</td>\n",
       "      <td>-97.753700</td>\n",
       "      <td>1715560</td>\n",
       "      <td>7359440</td>\n",
       "    </tr>\n",
       "    <tr>\n",
       "      <th>3</th>\n",
       "      <td>3</td>\n",
       "      <td>24132</td>\n",
       "      <td>24132</td>\n",
       "      <td>30.335501</td>\n",
       "      <td>-97.753700</td>\n",
       "      <td>1715560</td>\n",
       "      <td>7359440</td>\n",
       "    </tr>\n",
       "    <tr>\n",
       "      <th>4</th>\n",
       "      <td>4</td>\n",
       "      <td>24133</td>\n",
       "      <td>24133</td>\n",
       "      <td>30.337299</td>\n",
       "      <td>-97.753700</td>\n",
       "      <td>1715560</td>\n",
       "      <td>7359630</td>\n",
       "    </tr>\n",
       "  </tbody>\n",
       "</table>\n",
       "</div>"
      ],
      "text/plain": [
       "   FID  OBJECTID    BID        Lat        Lon        X        Y\n",
       "0    0     23966  23966  30.336500 -97.754700  1715460  7359540\n",
       "1    1     24053  24053  30.336100 -97.754204  1715520  7359500\n",
       "2    2     24120  24120  30.335600 -97.753700  1715560  7359440\n",
       "3    3     24132  24132  30.335501 -97.753700  1715560  7359440\n",
       "4    4     24133  24133  30.337299 -97.753700  1715560  7359630"
      ]
     },
     "execution_count": 50,
     "metadata": {},
     "output_type": "execute_result"
    }
   ],
   "source": [
    "baseDf.head()"
   ]
  },
  {
   "cell_type": "code",
   "execution_count": 58,
   "metadata": {},
   "outputs": [],
   "source": [
    "# ['131', '143', '247', '248', '249', '261', '263']\n",
    "tID = \"263\"\n",
    "t1 = os.path.join(dataFolder, tID, \"baseDic.csv\")\n",
    "savePth = os.path.join(dataFolder, tID, \"baseInfo.csv\")\n",
    "\n",
    "t1Df = pd.read_csv(t1)\n",
    "t1Df = t1Df.drop(\"Unnamed: 0\", axis=1)\n",
    "CIDLst = t1Df[\"BID\"].values.tolist()\n",
    "Lat = []\n",
    "Lon = []\n",
    "X = []\n",
    "Y = []\n",
    "for CID in CIDLst:\n",
    "    data = baseDf[baseDf[\"BID\"] == CID]\n",
    "    Lat.append(data[\"Lat\"].values[0])\n",
    "    Lon.append(data[\"Lon\"].values[0])\n",
    "    X.append(data[\"X\"].values[0])\n",
    "    Y.append(data[\"Y\"].values[0])\n",
    "    \n",
    "t1Df[\"Lat\"] = Lat\n",
    "t1Df[\"Lon\"] = Lon\n",
    "t1Df[\"X\"] = X\n",
    "t1Df[\"Y\"] = Y\n",
    "t1Df.to_csv(savePth, index=False)"
   ]
  },
  {
   "cell_type": "code",
   "execution_count": 51,
   "metadata": {},
   "outputs": [
    {
     "data": {
      "text/html": [
       "<div>\n",
       "<style scoped>\n",
       "    .dataframe tbody tr th:only-of-type {\n",
       "        vertical-align: middle;\n",
       "    }\n",
       "\n",
       "    .dataframe tbody tr th {\n",
       "        vertical-align: top;\n",
       "    }\n",
       "\n",
       "    .dataframe thead th {\n",
       "        text-align: right;\n",
       "    }\n",
       "</style>\n",
       "<table border=\"1\" class=\"dataframe\">\n",
       "  <thead>\n",
       "    <tr style=\"text-align: right;\">\n",
       "      <th></th>\n",
       "      <th>BID</th>\n",
       "    </tr>\n",
       "  </thead>\n",
       "  <tbody>\n",
       "    <tr>\n",
       "      <th>0</th>\n",
       "      <td>26628</td>\n",
       "    </tr>\n",
       "    <tr>\n",
       "      <th>1</th>\n",
       "      <td>26659</td>\n",
       "    </tr>\n",
       "    <tr>\n",
       "      <th>2</th>\n",
       "      <td>26735</td>\n",
       "    </tr>\n",
       "    <tr>\n",
       "      <th>3</th>\n",
       "      <td>26743</td>\n",
       "    </tr>\n",
       "    <tr>\n",
       "      <th>4</th>\n",
       "      <td>26750</td>\n",
       "    </tr>\n",
       "  </tbody>\n",
       "</table>\n",
       "</div>"
      ],
      "text/plain": [
       "     BID\n",
       "0  26628\n",
       "1  26659\n",
       "2  26735\n",
       "3  26743\n",
       "4  26750"
      ]
     },
     "execution_count": 51,
     "metadata": {},
     "output_type": "execute_result"
    }
   ],
   "source": [
    "tID = \"263\"\n",
    "t1 = os.path.join(dataFolder, tID, \"baseDic.csv\")\n",
    "savePth = os.path.join(dataFolder, tID, \"baseInfo.csv\")\n",
    "\n",
    "t1Df = pd.read_csv(t1)\n",
    "t1Df = t1Df.drop(\"Unnamed: 0\", axis=1)\n",
    "t1Df.head()"
   ]
  },
  {
   "cell_type": "code",
   "execution_count": 120,
   "metadata": {},
   "outputs": [],
   "source": [
    "TractLstAll = ['131', '143', '247', '248', '249', '261', '263']\n",
    "for TractID in TractLstAll:\n",
    "    # TractID = \"263\"\n",
    "    TractFolderOrigin = r\"C:\\\\Users\\bigti\\\\research\\\\RobotDelivery_SA\\\\Project2\\dataset\\selectedTract\\\\\"\n",
    "    TractFolderOrigin = os.path.join(TractFolderOrigin, TractID)\n",
    "\n",
    "    allBase = os.path.join(r\"../../RobotDelivery_SA/Project2/dataset/data/TractSeperate/\", TractID)\n",
    "    allBaseDf = pd.read_csv(os.path.join(allBase, \"baseInfo.csv\"))\n",
    "    originBCMPth = os.path.join(allBase, \"bcM.npy\")\n",
    "    bcM_np = np.load(originBCMPth)\n",
    "\n",
    "    for i in range(1, 6):\n",
    "        newdataFolder = os.path.join(r\"../../RobotDelivery_SA/Project2/dataset/data/TractSeperate/\", TractID, str(i)+\"_depot\")\n",
    "\n",
    "        newBaseInfoPth = os.path.join(newdataFolder, \"baseInfo.csv\")\n",
    "        bcMPth = os.path.join(newdataFolder, \"bcM.csv\")\n",
    "\n",
    "        baseNum = os.path.join(TractFolderOrigin, \"Base_\" + str(i) + \"_2.csv\")\n",
    "        baseDf = pd.read_csv(baseNum)\n",
    "        baseIndexLst = baseDf.values[0][-1*i:]\n",
    "\n",
    "        newBaseInfoLst = []\n",
    "        newBCMLst = []\n",
    "        TractLst = []\n",
    "        for baseIndex in baseIndexLst:\n",
    "            newBaseInfoLst.append(allBaseDf.iloc[int(baseIndex)-1])\n",
    "            newBCMLst.append(bcM_np[int(baseIndex)-1])\n",
    "            TractLst.append(TractID)\n",
    "        newBaseInfoLstDf = pd.DataFrame(newBaseInfoLst)\n",
    "        newBaseInfoLstDf[\"TractID\"] = TractLst\n",
    "        newBCMLstDf = pd.DataFrame(newBCMLst)\n",
    "\n",
    "        newBaseInfoLstDf.to_csv(newBaseInfoPth, index=False)\n",
    "        # newBCMLstDf.to_csv(bcMPth, index=False)"
   ]
  },
  {
   "cell_type": "code",
   "execution_count": 83,
   "metadata": {},
   "outputs": [],
   "source": [
    "l = [allBaseDf.iloc[0], allBaseDf.iloc[1], allBaseDf.iloc[2]]"
   ]
  },
  {
   "cell_type": "code",
   "execution_count": 85,
   "metadata": {},
   "outputs": [],
   "source": [
    "l = pd.DataFrame(l)"
   ]
  },
  {
   "cell_type": "code",
   "execution_count": 86,
   "metadata": {},
   "outputs": [
    {
     "data": {
      "text/html": [
       "<div>\n",
       "<style scoped>\n",
       "    .dataframe tbody tr th:only-of-type {\n",
       "        vertical-align: middle;\n",
       "    }\n",
       "\n",
       "    .dataframe tbody tr th {\n",
       "        vertical-align: top;\n",
       "    }\n",
       "\n",
       "    .dataframe thead th {\n",
       "        text-align: right;\n",
       "    }\n",
       "</style>\n",
       "<table border=\"1\" class=\"dataframe\">\n",
       "  <thead>\n",
       "    <tr style=\"text-align: right;\">\n",
       "      <th></th>\n",
       "      <th>BID</th>\n",
       "      <th>Lat</th>\n",
       "      <th>Lon</th>\n",
       "      <th>X</th>\n",
       "      <th>Y</th>\n",
       "    </tr>\n",
       "  </thead>\n",
       "  <tbody>\n",
       "    <tr>\n",
       "      <th>0</th>\n",
       "      <td>25859.0</td>\n",
       "      <td>30.359699</td>\n",
       "      <td>-97.743797</td>\n",
       "      <td>1716460.0</td>\n",
       "      <td>7362140.0</td>\n",
       "    </tr>\n",
       "    <tr>\n",
       "      <th>1</th>\n",
       "      <td>25985.0</td>\n",
       "      <td>30.361601</td>\n",
       "      <td>-97.742996</td>\n",
       "      <td>1716530.0</td>\n",
       "      <td>7362360.0</td>\n",
       "    </tr>\n",
       "    <tr>\n",
       "      <th>2</th>\n",
       "      <td>26373.0</td>\n",
       "      <td>30.361000</td>\n",
       "      <td>-97.740898</td>\n",
       "      <td>1716730.0</td>\n",
       "      <td>7362280.0</td>\n",
       "    </tr>\n",
       "  </tbody>\n",
       "</table>\n",
       "</div>"
      ],
      "text/plain": [
       "       BID        Lat        Lon          X          Y\n",
       "0  25859.0  30.359699 -97.743797  1716460.0  7362140.0\n",
       "1  25985.0  30.361601 -97.742996  1716530.0  7362360.0\n",
       "2  26373.0  30.361000 -97.740898  1716730.0  7362280.0"
      ]
     },
     "execution_count": 86,
     "metadata": {},
     "output_type": "execute_result"
    }
   ],
   "source": [
    "l"
   ]
  },
  {
   "cell_type": "code",
   "execution_count": 88,
   "metadata": {},
   "outputs": [
    {
     "data": {
      "text/plain": [
       "BID    2.585900e+04\n",
       "Lat    3.035970e+01\n",
       "Lon   -9.774380e+01\n",
       "X      1.716460e+06\n",
       "Y      7.362140e+06\n",
       "Name: 0, dtype: float64"
      ]
     },
     "execution_count": 88,
     "metadata": {},
     "output_type": "execute_result"
    }
   ],
   "source": [
    "allBaseDf.iloc[0]"
   ]
  },
  {
   "cell_type": "code",
   "execution_count": 96,
   "metadata": {},
   "outputs": [],
   "source": [
    "bbMAllPth = r\"../../RobotDelivery_SA/Project2/dataset/bbM_All.csv\"\n",
    "bbMAllDf = pd.read_csv(bbMAllPth)"
   ]
  },
  {
   "cell_type": "code",
   "execution_count": 109,
   "metadata": {},
   "outputs": [],
   "source": [
    "FromID = bbMAllDf[\"OriginID\"]-1\n",
    "FromID = FromID.values\n",
    "ToID = bbMAllDf[\"DestinationID\"]-1\n",
    "ToID = ToID.values\n",
    "Length = bbMAllDf[\"Total_Length\"].values\n"
   ]
  },
  {
   "cell_type": "code",
   "execution_count": 151,
   "metadata": {},
   "outputs": [],
   "source": [
    "DicPth = r\"../../RobotDelivery_SA/Project2/dataset/baseDicAllNew.csv\"\n",
    "DicDf = pd.read_csv(DicPth)\n",
    "BIDLst = DicDf[\"BID\"].values"
   ]
  },
  {
   "cell_type": "code",
   "execution_count": 158,
   "metadata": {},
   "outputs": [
    {
     "data": {
      "text/html": [
       "<div>\n",
       "<style scoped>\n",
       "    .dataframe tbody tr th:only-of-type {\n",
       "        vertical-align: middle;\n",
       "    }\n",
       "\n",
       "    .dataframe tbody tr th {\n",
       "        vertical-align: top;\n",
       "    }\n",
       "\n",
       "    .dataframe thead th {\n",
       "        text-align: right;\n",
       "    }\n",
       "</style>\n",
       "<table border=\"1\" class=\"dataframe\">\n",
       "  <thead>\n",
       "    <tr style=\"text-align: right;\">\n",
       "      <th></th>\n",
       "      <th>FID</th>\n",
       "      <th>OBJECTID</th>\n",
       "      <th>BID</th>\n",
       "      <th>Lat</th>\n",
       "      <th>Lon</th>\n",
       "      <th>X</th>\n",
       "      <th>Y</th>\n",
       "      <th>NewBID</th>\n",
       "    </tr>\n",
       "  </thead>\n",
       "  <tbody>\n",
       "    <tr>\n",
       "      <th>0</th>\n",
       "      <td>0</td>\n",
       "      <td>24966</td>\n",
       "      <td>24966</td>\n",
       "      <td>30.339600</td>\n",
       "      <td>-97.748398</td>\n",
       "      <td>1716060</td>\n",
       "      <td>7359900</td>\n",
       "      <td>0</td>\n",
       "    </tr>\n",
       "    <tr>\n",
       "      <th>1</th>\n",
       "      <td>1</td>\n",
       "      <td>25029</td>\n",
       "      <td>25029</td>\n",
       "      <td>30.350700</td>\n",
       "      <td>-97.748001</td>\n",
       "      <td>1716070</td>\n",
       "      <td>7361130</td>\n",
       "      <td>1</td>\n",
       "    </tr>\n",
       "    <tr>\n",
       "      <th>2</th>\n",
       "      <td>2</td>\n",
       "      <td>25223</td>\n",
       "      <td>25223</td>\n",
       "      <td>30.339300</td>\n",
       "      <td>-97.746902</td>\n",
       "      <td>1716200</td>\n",
       "      <td>7359870</td>\n",
       "      <td>2</td>\n",
       "    </tr>\n",
       "    <tr>\n",
       "      <th>3</th>\n",
       "      <td>3</td>\n",
       "      <td>25453</td>\n",
       "      <td>25453</td>\n",
       "      <td>30.348200</td>\n",
       "      <td>-97.745796</td>\n",
       "      <td>1716290</td>\n",
       "      <td>7360860</td>\n",
       "      <td>3</td>\n",
       "    </tr>\n",
       "    <tr>\n",
       "      <th>4</th>\n",
       "      <td>4</td>\n",
       "      <td>25494</td>\n",
       "      <td>25494</td>\n",
       "      <td>30.346600</td>\n",
       "      <td>-97.745598</td>\n",
       "      <td>1716320</td>\n",
       "      <td>7360680</td>\n",
       "      <td>4</td>\n",
       "    </tr>\n",
       "    <tr>\n",
       "      <th>...</th>\n",
       "      <td>...</td>\n",
       "      <td>...</td>\n",
       "      <td>...</td>\n",
       "      <td>...</td>\n",
       "      <td>...</td>\n",
       "      <td>...</td>\n",
       "      <td>...</td>\n",
       "      <td>...</td>\n",
       "    </tr>\n",
       "    <tr>\n",
       "      <th>66</th>\n",
       "      <td>66</td>\n",
       "      <td>29470</td>\n",
       "      <td>29470</td>\n",
       "      <td>30.365499</td>\n",
       "      <td>-97.721199</td>\n",
       "      <td>1718610</td>\n",
       "      <td>7362830</td>\n",
       "      <td>66</td>\n",
       "    </tr>\n",
       "    <tr>\n",
       "      <th>67</th>\n",
       "      <td>67</td>\n",
       "      <td>29808</td>\n",
       "      <td>29808</td>\n",
       "      <td>30.358801</td>\n",
       "      <td>-97.718597</td>\n",
       "      <td>1718880</td>\n",
       "      <td>7362090</td>\n",
       "      <td>67</td>\n",
       "    </tr>\n",
       "    <tr>\n",
       "      <th>68</th>\n",
       "      <td>68</td>\n",
       "      <td>29865</td>\n",
       "      <td>29865</td>\n",
       "      <td>30.343500</td>\n",
       "      <td>-97.718201</td>\n",
       "      <td>1718950</td>\n",
       "      <td>7360390</td>\n",
       "      <td>68</td>\n",
       "    </tr>\n",
       "    <tr>\n",
       "      <th>69</th>\n",
       "      <td>69</td>\n",
       "      <td>29895</td>\n",
       "      <td>29895</td>\n",
       "      <td>30.355499</td>\n",
       "      <td>-97.718002</td>\n",
       "      <td>1718940</td>\n",
       "      <td>7361730</td>\n",
       "      <td>69</td>\n",
       "    </tr>\n",
       "    <tr>\n",
       "      <th>70</th>\n",
       "      <td>70</td>\n",
       "      <td>29970</td>\n",
       "      <td>29970</td>\n",
       "      <td>30.351801</td>\n",
       "      <td>-97.717400</td>\n",
       "      <td>1719010</td>\n",
       "      <td>7361320</td>\n",
       "      <td>70</td>\n",
       "    </tr>\n",
       "  </tbody>\n",
       "</table>\n",
       "<p>71 rows × 8 columns</p>\n",
       "</div>"
      ],
      "text/plain": [
       "    FID  OBJECTID    BID        Lat        Lon        X        Y  NewBID\n",
       "0     0     24966  24966  30.339600 -97.748398  1716060  7359900       0\n",
       "1     1     25029  25029  30.350700 -97.748001  1716070  7361130       1\n",
       "2     2     25223  25223  30.339300 -97.746902  1716200  7359870       2\n",
       "3     3     25453  25453  30.348200 -97.745796  1716290  7360860       3\n",
       "4     4     25494  25494  30.346600 -97.745598  1716320  7360680       4\n",
       "..  ...       ...    ...        ...        ...      ...      ...     ...\n",
       "66   66     29470  29470  30.365499 -97.721199  1718610  7362830      66\n",
       "67   67     29808  29808  30.358801 -97.718597  1718880  7362090      67\n",
       "68   68     29865  29865  30.343500 -97.718201  1718950  7360390      68\n",
       "69   69     29895  29895  30.355499 -97.718002  1718940  7361730      69\n",
       "70   70     29970  29970  30.351801 -97.717400  1719010  7361320      70\n",
       "\n",
       "[71 rows x 8 columns]"
      ]
     },
     "execution_count": 158,
     "metadata": {},
     "output_type": "execute_result"
    }
   ],
   "source": [
    "DicDf"
   ]
  },
  {
   "cell_type": "code",
   "execution_count": 155,
   "metadata": {},
   "outputs": [
    {
     "data": {
      "text/plain": [
       "33"
      ]
     },
     "execution_count": 155,
     "metadata": {},
     "output_type": "execute_result"
    }
   ],
   "source": [
    "BIDLst.tolist().index(27308)"
   ]
  },
  {
   "cell_type": "code",
   "execution_count": 156,
   "metadata": {},
   "outputs": [
    {
     "data": {
      "text/plain": [
       "array([24966, 25029, 25223, 25453, 25494, 25664, 25710, 25793, 25796,\n",
       "       25822, 25824, 25911, 26065, 26128, 26131, 26294, 26351, 26359,\n",
       "       26385, 26456, 26868, 26932, 27015, 27039, 27055, 27057, 27130,\n",
       "       27178, 27190, 27208, 27250, 27261, 27263, 27308, 27366, 27405,\n",
       "       27471, 27479, 27520, 27527, 27634, 27643, 27678, 27745, 27771,\n",
       "       27843, 27897, 28088, 28103, 28265, 28271, 28280, 28411, 28489,\n",
       "       28545, 28639, 28783, 28808, 28821, 28865, 28972, 29020, 29095,\n",
       "       29163, 29259, 29427, 29470, 29808, 29865, 29895, 29970],\n",
       "      dtype=int64)"
      ]
     },
     "execution_count": 156,
     "metadata": {},
     "output_type": "execute_result"
    }
   ],
   "source": [
    "BIDLst"
   ]
  },
  {
   "cell_type": "code",
   "execution_count": 127,
   "metadata": {},
   "outputs": [
    {
     "data": {
      "text/html": [
       "<div>\n",
       "<style scoped>\n",
       "    .dataframe tbody tr th:only-of-type {\n",
       "        vertical-align: middle;\n",
       "    }\n",
       "\n",
       "    .dataframe tbody tr th {\n",
       "        vertical-align: top;\n",
       "    }\n",
       "\n",
       "    .dataframe thead th {\n",
       "        text-align: right;\n",
       "    }\n",
       "</style>\n",
       "<table border=\"1\" class=\"dataframe\">\n",
       "  <thead>\n",
       "    <tr style=\"text-align: right;\">\n",
       "      <th></th>\n",
       "      <th>OriginID</th>\n",
       "      <th>DestinationID</th>\n",
       "    </tr>\n",
       "  </thead>\n",
       "  <tbody>\n",
       "    <tr>\n",
       "      <th>0</th>\n",
       "      <td>1</td>\n",
       "      <td>1</td>\n",
       "    </tr>\n",
       "    <tr>\n",
       "      <th>1</th>\n",
       "      <td>1</td>\n",
       "      <td>3</td>\n",
       "    </tr>\n",
       "    <tr>\n",
       "      <th>2</th>\n",
       "      <td>1</td>\n",
       "      <td>5</td>\n",
       "    </tr>\n",
       "    <tr>\n",
       "      <th>3</th>\n",
       "      <td>1</td>\n",
       "      <td>7</td>\n",
       "    </tr>\n",
       "    <tr>\n",
       "      <th>4</th>\n",
       "      <td>1</td>\n",
       "      <td>4</td>\n",
       "    </tr>\n",
       "    <tr>\n",
       "      <th>...</th>\n",
       "      <td>...</td>\n",
       "      <td>...</td>\n",
       "    </tr>\n",
       "    <tr>\n",
       "      <th>5036</th>\n",
       "      <td>71</td>\n",
       "      <td>9</td>\n",
       "    </tr>\n",
       "    <tr>\n",
       "      <th>5037</th>\n",
       "      <td>71</td>\n",
       "      <td>18</td>\n",
       "    </tr>\n",
       "    <tr>\n",
       "      <th>5038</th>\n",
       "      <td>71</td>\n",
       "      <td>17</td>\n",
       "    </tr>\n",
       "    <tr>\n",
       "      <th>5039</th>\n",
       "      <td>71</td>\n",
       "      <td>13</td>\n",
       "    </tr>\n",
       "    <tr>\n",
       "      <th>5040</th>\n",
       "      <td>71</td>\n",
       "      <td>12</td>\n",
       "    </tr>\n",
       "  </tbody>\n",
       "</table>\n",
       "<p>5041 rows × 2 columns</p>\n",
       "</div>"
      ],
      "text/plain": [
       "      OriginID  DestinationID\n",
       "0            1              1\n",
       "1            1              3\n",
       "2            1              5\n",
       "3            1              7\n",
       "4            1              4\n",
       "...        ...            ...\n",
       "5036        71              9\n",
       "5037        71             18\n",
       "5038        71             17\n",
       "5039        71             13\n",
       "5040        71             12\n",
       "\n",
       "[5041 rows x 2 columns]"
      ]
     },
     "execution_count": 127,
     "metadata": {},
     "output_type": "execute_result"
    }
   ],
   "source": [
    "bbMAllDf[[\"OriginID\", \"DestinationID\"]]"
   ]
  },
  {
   "cell_type": "code",
   "execution_count": 135,
   "metadata": {},
   "outputs": [],
   "source": [
    "allBBM = np.zeros((71, 71))\n",
    "for i in range(71):\n",
    "    for j in range(71):\n",
    "        data = bbMAllDf[bbMAllDf[\"OriginID\"]==i+1]\n",
    "        data = data[data[\"DestinationID\"] == j+1]\n",
    "        data = data[\"Total_Length\"].values[0]\n",
    "        allBBM[i][j] = data\n"
   ]
  },
  {
   "cell_type": "code",
   "execution_count": 137,
   "metadata": {},
   "outputs": [],
   "source": [
    "allBBMDf = pd.DataFrame(allBBM)"
   ]
  },
  {
   "cell_type": "code",
   "execution_count": 139,
   "metadata": {},
   "outputs": [],
   "source": [
    "allBBMDf.to_csv(r\"../../RobotDelivery_SA/Project2/dataset/bbmNbyNMatrix.csv\")"
   ]
  },
  {
   "cell_type": "code",
   "execution_count": 159,
   "metadata": {},
   "outputs": [],
   "source": [
    "DicPth = r\"../../RobotDelivery_SA/Project2/dataset/baseDicAllNew.csv\"\n",
    "DicDf = pd.read_csv(DicPth)\n",
    "BIDLst = DicDf[\"BID\"].values\n",
    "BIDLst = BIDLst.tolist()\n",
    "\n",
    "TractLstAll = ['131', '143', '247', '248', '249', '261', '263']\n",
    "for i in range(1, 6):\n",
    "    newDic = os.path.join(r\"C:\\\\Users\\bigti\\\\research\\\\RobotDelivery_SA\\\\Project2\\dataset\\\\data\\\\TractSeperate\\\\\", str(i)+\"_depot_all_info.csv\")\n",
    "    newBBM = os.path.join(r\"C:\\\\Users\\bigti\\\\research\\\\RobotDelivery_SA\\\\Project2\\dataset\\\\data\\\\TractSeperate\\\\\", str(i)+\"_depot_DDM.csv\")\n",
    "    baseLst = []\n",
    "    for TractID in TractLstAll:\n",
    "        # TractID = \"263\"\n",
    "        TractFolderOrigin = r\"C:\\\\Users\\bigti\\\\research\\\\RobotDelivery_SA\\\\Project2\\dataset\\\\data\\\\TractSeperate\\\\\"\n",
    "        TractFolderOrigin = os.path.join(TractFolderOrigin, TractID)\n",
    "        baseInfo = os.path.join(TractFolderOrigin, str(i)+\"_depot\", \"baseInfo.csv\")\n",
    "        baseInfo = pd.read_csv(baseInfo)\n",
    "        baseLst.append(baseInfo)\n",
    "    newdf = pd.concat(baseLst, axis=0)\n",
    "    newdf.to_csv(newDic, index=False)\n",
    "    newBIDLst = newdf[\"BID\"].values.tolist()\n",
    "    shape = len(newBIDLst)\n",
    "    newArray = np.zeros((shape, shape))\n",
    "    newIdxLst = []\n",
    "    for BID in newBIDLst:\n",
    "        newIdxLst.append(BIDLst.index(BID))\n",
    "    ii = 0\n",
    "    for Idxi in newIdxLst:\n",
    "        jj = 0\n",
    "        for IdxJ in newIdxLst:\n",
    "            data = allBBM[Idxi][IdxJ]\n",
    "            newArray[ii][jj] = data\n",
    "            jj+=1\n",
    "        ii += 1\n",
    "    bbmdf = pd.DataFrame(newArray)\n",
    "    bbmdf.to_csv(newBBM, index=False)\n",
    "\n",
    "            \n",
    "    \n",
    "    "
   ]
  },
  {
   "cell_type": "code",
   "execution_count": 161,
   "metadata": {},
   "outputs": [],
   "source": [
    "TractLstAll = ['131', '143', '247', '248', '249', '261', '263']\n",
    "datafolder = r\"../../RobotDelivery_SA/Project2/dataset/data/TractSeperate/\"\n",
    "for tract in TractLstAll:\n",
    "    filePth = os.path.join(datafolder, tract, \"ccM.npy\")\n",
    "    newfile = os.path.join(datafolder, tract, \"ccM.csv\")\n",
    "    data = np.load(filePth)\n",
    "    df = pd.DataFrame(data)\n",
    "    df.to_csv(newfile, index=False)"
   ]
  },
  {
   "cell_type": "code",
   "execution_count": null,
   "metadata": {},
   "outputs": [],
   "source": []
  }
 ],
 "metadata": {
  "kernelspec": {
   "display_name": "pytorch",
   "language": "python",
   "name": "python3"
  },
  "language_info": {
   "codemirror_mode": {
    "name": "ipython",
    "version": 3
   },
   "file_extension": ".py",
   "mimetype": "text/x-python",
   "name": "python",
   "nbconvert_exporter": "python",
   "pygments_lexer": "ipython3",
   "version": "3.11.3"
  }
 },
 "nbformat": 4,
 "nbformat_minor": 2
}
